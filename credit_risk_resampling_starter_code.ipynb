{
  "nbformat": 4,
  "nbformat_minor": 0,
  "metadata": {
    "kernelspec": {
      "display_name": "mlenv",
      "language": "python",
      "name": "mlenv"
    },
    "language_info": {
      "codemirror_mode": {
        "name": "ipython",
        "version": 3
      },
      "file_extension": ".py",
      "mimetype": "text/x-python",
      "name": "python",
      "nbconvert_exporter": "python",
      "pygments_lexer": "ipython3",
      "version": "3.7.7"
    },
    "colab": {
      "name": "credit_risk_resampling_starter_code.ipynb",
      "provenance": [],
      "include_colab_link": true
    }
  },
  "cells": [
    {
      "cell_type": "markdown",
      "metadata": {
        "id": "view-in-github",
        "colab_type": "text"
      },
      "source": [
        "<a href=\"https://colab.research.google.com/github/nikmahadeshwar/Credit_Risk_Analysis/blob/main/credit_risk_resampling_starter_code.ipynb\" target=\"_parent\"><img src=\"https://colab.research.google.com/assets/colab-badge.svg\" alt=\"Open In Colab\"/></a>"
      ]
    },
    {
      "cell_type": "markdown",
      "metadata": {
        "id": "L8kuCpWIcLXI"
      },
      "source": [
        "# Credit Risk Resampling Techniques"
      ]
    },
    {
      "cell_type": "code",
      "metadata": {
        "id": "vlXO7cx5cLXJ"
      },
      "source": [
        "import warnings\n",
        "warnings.filterwarnings('ignore')"
      ],
      "execution_count": 1,
      "outputs": []
    },
    {
      "cell_type": "code",
      "metadata": {
        "id": "I5hYGF2GcLXK"
      },
      "source": [
        "import numpy as np\n",
        "import pandas as pd\n",
        "from pathlib import Path\n",
        "from collections import Counter"
      ],
      "execution_count": 2,
      "outputs": []
    },
    {
      "cell_type": "markdown",
      "metadata": {
        "id": "KPPeyXfQcLXK"
      },
      "source": [
        "# Read the CSV and Perform Basic Data Cleaning"
      ]
    },
    {
      "cell_type": "code",
      "metadata": {
        "id": "J5c2rb8GcLXK"
      },
      "source": [
        "columns = [\n",
        "    \"loan_amnt\", \"int_rate\", \"installment\", \"home_ownership\",\n",
        "    \"annual_inc\", \"verification_status\", \"issue_d\", \"loan_status\",\n",
        "    \"pymnt_plan\", \"dti\", \"delinq_2yrs\", \"inq_last_6mths\",\n",
        "    \"open_acc\", \"pub_rec\", \"revol_bal\", \"total_acc\",\n",
        "    \"initial_list_status\", \"out_prncp\", \"out_prncp_inv\", \"total_pymnt\",\n",
        "    \"total_pymnt_inv\", \"total_rec_prncp\", \"total_rec_int\", \"total_rec_late_fee\",\n",
        "    \"recoveries\", \"collection_recovery_fee\", \"last_pymnt_amnt\", \"next_pymnt_d\",\n",
        "    \"collections_12_mths_ex_med\", \"policy_code\", \"application_type\", \"acc_now_delinq\",\n",
        "    \"tot_coll_amt\", \"tot_cur_bal\", \"open_acc_6m\", \"open_act_il\",\n",
        "    \"open_il_12m\", \"open_il_24m\", \"mths_since_rcnt_il\", \"total_bal_il\",\n",
        "    \"il_util\", \"open_rv_12m\", \"open_rv_24m\", \"max_bal_bc\",\n",
        "    \"all_util\", \"total_rev_hi_lim\", \"inq_fi\", \"total_cu_tl\",\n",
        "    \"inq_last_12m\", \"acc_open_past_24mths\", \"avg_cur_bal\", \"bc_open_to_buy\",\n",
        "    \"bc_util\", \"chargeoff_within_12_mths\", \"delinq_amnt\", \"mo_sin_old_il_acct\",\n",
        "    \"mo_sin_old_rev_tl_op\", \"mo_sin_rcnt_rev_tl_op\", \"mo_sin_rcnt_tl\", \"mort_acc\",\n",
        "    \"mths_since_recent_bc\", \"mths_since_recent_inq\", \"num_accts_ever_120_pd\", \"num_actv_bc_tl\",\n",
        "    \"num_actv_rev_tl\", \"num_bc_sats\", \"num_bc_tl\", \"num_il_tl\",\n",
        "    \"num_op_rev_tl\", \"num_rev_accts\", \"num_rev_tl_bal_gt_0\",\n",
        "    \"num_sats\", \"num_tl_120dpd_2m\", \"num_tl_30dpd\", \"num_tl_90g_dpd_24m\",\n",
        "    \"num_tl_op_past_12m\", \"pct_tl_nvr_dlq\", \"percent_bc_gt_75\", \"pub_rec_bankruptcies\",\n",
        "    \"tax_liens\", \"tot_hi_cred_lim\", \"total_bal_ex_mort\", \"total_bc_limit\",\n",
        "    \"total_il_high_credit_limit\", \"hardship_flag\", \"debt_settlement_flag\"\n",
        "]\n",
        "\n",
        "target = [\"loan_status\"]"
      ],
      "execution_count": 3,
      "outputs": []
    },
    {
      "cell_type": "code",
      "metadata": {
        "colab": {
          "base_uri": "https://localhost:8080/",
          "height": 338
        },
        "id": "vytCtdCCcLXL",
        "outputId": "422cf6e9-b201-48cf-8edf-9e7a904ea8fb"
      },
      "source": [
        "# Load the data\n",
        "file_path = Path('LoanStats_2019Q1.csv')\n",
        "df = pd.read_csv(file_path, skiprows=1)[:-2]\n",
        "df = df.loc[:, columns].copy()\n",
        "\n",
        "# Drop the null columns where all values are null\n",
        "df = df.dropna(axis='columns', how='all')\n",
        "\n",
        "# Drop the null rows\n",
        "df = df.dropna()\n",
        "\n",
        "# Remove the `Issued` loan status\n",
        "issued_mask = df['loan_status'] != 'Issued'\n",
        "df = df.loc[issued_mask]\n",
        "\n",
        "# convert interest rate to numerical\n",
        "df['int_rate'] = df['int_rate'].str.replace('%', '')\n",
        "df['int_rate'] = df['int_rate'].astype('float') / 100\n",
        "\n",
        "\n",
        "# Convert the target column values to low_risk and high_risk based on their values\n",
        "x = {'Current': 'low_risk'}   \n",
        "df = df.replace(x)\n",
        "\n",
        "x = dict.fromkeys(['Late (31-120 days)', 'Late (16-30 days)', 'Default', 'In Grace Period'], 'high_risk')    \n",
        "df = df.replace(x)\n",
        "\n",
        "df.reset_index(inplace=True, drop=True)\n",
        "\n",
        "df.head()"
      ],
      "execution_count": 5,
      "outputs": [
        {
          "output_type": "execute_result",
          "data": {
            "text/html": [
              "<div>\n",
              "<style scoped>\n",
              "    .dataframe tbody tr th:only-of-type {\n",
              "        vertical-align: middle;\n",
              "    }\n",
              "\n",
              "    .dataframe tbody tr th {\n",
              "        vertical-align: top;\n",
              "    }\n",
              "\n",
              "    .dataframe thead th {\n",
              "        text-align: right;\n",
              "    }\n",
              "</style>\n",
              "<table border=\"1\" class=\"dataframe\">\n",
              "  <thead>\n",
              "    <tr style=\"text-align: right;\">\n",
              "      <th></th>\n",
              "      <th>loan_amnt</th>\n",
              "      <th>int_rate</th>\n",
              "      <th>installment</th>\n",
              "      <th>home_ownership</th>\n",
              "      <th>annual_inc</th>\n",
              "      <th>verification_status</th>\n",
              "      <th>issue_d</th>\n",
              "      <th>loan_status</th>\n",
              "      <th>pymnt_plan</th>\n",
              "      <th>dti</th>\n",
              "      <th>delinq_2yrs</th>\n",
              "      <th>inq_last_6mths</th>\n",
              "      <th>open_acc</th>\n",
              "      <th>pub_rec</th>\n",
              "      <th>revol_bal</th>\n",
              "      <th>total_acc</th>\n",
              "      <th>initial_list_status</th>\n",
              "      <th>out_prncp</th>\n",
              "      <th>out_prncp_inv</th>\n",
              "      <th>total_pymnt</th>\n",
              "      <th>total_pymnt_inv</th>\n",
              "      <th>total_rec_prncp</th>\n",
              "      <th>total_rec_int</th>\n",
              "      <th>total_rec_late_fee</th>\n",
              "      <th>recoveries</th>\n",
              "      <th>collection_recovery_fee</th>\n",
              "      <th>last_pymnt_amnt</th>\n",
              "      <th>next_pymnt_d</th>\n",
              "      <th>collections_12_mths_ex_med</th>\n",
              "      <th>policy_code</th>\n",
              "      <th>application_type</th>\n",
              "      <th>acc_now_delinq</th>\n",
              "      <th>tot_coll_amt</th>\n",
              "      <th>tot_cur_bal</th>\n",
              "      <th>open_acc_6m</th>\n",
              "      <th>open_act_il</th>\n",
              "      <th>open_il_12m</th>\n",
              "      <th>open_il_24m</th>\n",
              "      <th>mths_since_rcnt_il</th>\n",
              "      <th>total_bal_il</th>\n",
              "      <th>...</th>\n",
              "      <th>inq_fi</th>\n",
              "      <th>total_cu_tl</th>\n",
              "      <th>inq_last_12m</th>\n",
              "      <th>acc_open_past_24mths</th>\n",
              "      <th>avg_cur_bal</th>\n",
              "      <th>bc_open_to_buy</th>\n",
              "      <th>bc_util</th>\n",
              "      <th>chargeoff_within_12_mths</th>\n",
              "      <th>delinq_amnt</th>\n",
              "      <th>mo_sin_old_il_acct</th>\n",
              "      <th>mo_sin_old_rev_tl_op</th>\n",
              "      <th>mo_sin_rcnt_rev_tl_op</th>\n",
              "      <th>mo_sin_rcnt_tl</th>\n",
              "      <th>mort_acc</th>\n",
              "      <th>mths_since_recent_bc</th>\n",
              "      <th>mths_since_recent_inq</th>\n",
              "      <th>num_accts_ever_120_pd</th>\n",
              "      <th>num_actv_bc_tl</th>\n",
              "      <th>num_actv_rev_tl</th>\n",
              "      <th>num_bc_sats</th>\n",
              "      <th>num_bc_tl</th>\n",
              "      <th>num_il_tl</th>\n",
              "      <th>num_op_rev_tl</th>\n",
              "      <th>num_rev_accts</th>\n",
              "      <th>num_rev_tl_bal_gt_0</th>\n",
              "      <th>num_sats</th>\n",
              "      <th>num_tl_120dpd_2m</th>\n",
              "      <th>num_tl_30dpd</th>\n",
              "      <th>num_tl_90g_dpd_24m</th>\n",
              "      <th>num_tl_op_past_12m</th>\n",
              "      <th>pct_tl_nvr_dlq</th>\n",
              "      <th>percent_bc_gt_75</th>\n",
              "      <th>pub_rec_bankruptcies</th>\n",
              "      <th>tax_liens</th>\n",
              "      <th>tot_hi_cred_lim</th>\n",
              "      <th>total_bal_ex_mort</th>\n",
              "      <th>total_bc_limit</th>\n",
              "      <th>total_il_high_credit_limit</th>\n",
              "      <th>hardship_flag</th>\n",
              "      <th>debt_settlement_flag</th>\n",
              "    </tr>\n",
              "  </thead>\n",
              "  <tbody>\n",
              "    <tr>\n",
              "      <th>0</th>\n",
              "      <td>10500.0</td>\n",
              "      <td>0.1719</td>\n",
              "      <td>375.35</td>\n",
              "      <td>RENT</td>\n",
              "      <td>66000.0</td>\n",
              "      <td>Source Verified</td>\n",
              "      <td>Mar-2019</td>\n",
              "      <td>low_risk</td>\n",
              "      <td>n</td>\n",
              "      <td>27.24</td>\n",
              "      <td>0.0</td>\n",
              "      <td>0.0</td>\n",
              "      <td>8.0</td>\n",
              "      <td>0.0</td>\n",
              "      <td>1609.0</td>\n",
              "      <td>14.0</td>\n",
              "      <td>w</td>\n",
              "      <td>10204.87</td>\n",
              "      <td>10204.87</td>\n",
              "      <td>355.29</td>\n",
              "      <td>355.29</td>\n",
              "      <td>295.13</td>\n",
              "      <td>60.16</td>\n",
              "      <td>0.0</td>\n",
              "      <td>0.0</td>\n",
              "      <td>0.0</td>\n",
              "      <td>375.35</td>\n",
              "      <td>May-2019</td>\n",
              "      <td>0.0</td>\n",
              "      <td>1.0</td>\n",
              "      <td>Individual</td>\n",
              "      <td>0.0</td>\n",
              "      <td>178.0</td>\n",
              "      <td>38199.0</td>\n",
              "      <td>3.0</td>\n",
              "      <td>4.0</td>\n",
              "      <td>2.0</td>\n",
              "      <td>4.0</td>\n",
              "      <td>3.0</td>\n",
              "      <td>36590.0</td>\n",
              "      <td>...</td>\n",
              "      <td>1.0</td>\n",
              "      <td>0.0</td>\n",
              "      <td>4.0</td>\n",
              "      <td>6.0</td>\n",
              "      <td>4775.0</td>\n",
              "      <td>447.0</td>\n",
              "      <td>77.7</td>\n",
              "      <td>0.0</td>\n",
              "      <td>0.0</td>\n",
              "      <td>93.0</td>\n",
              "      <td>96.0</td>\n",
              "      <td>3.0</td>\n",
              "      <td>3.0</td>\n",
              "      <td>0.0</td>\n",
              "      <td>20.0</td>\n",
              "      <td>1.0</td>\n",
              "      <td>0.0</td>\n",
              "      <td>1.0</td>\n",
              "      <td>2.0</td>\n",
              "      <td>1.0</td>\n",
              "      <td>1.0</td>\n",
              "      <td>10.0</td>\n",
              "      <td>3.0</td>\n",
              "      <td>3.0</td>\n",
              "      <td>2.0</td>\n",
              "      <td>8.0</td>\n",
              "      <td>0.0</td>\n",
              "      <td>0.0</td>\n",
              "      <td>0.0</td>\n",
              "      <td>3.0</td>\n",
              "      <td>85.7</td>\n",
              "      <td>100.0</td>\n",
              "      <td>0.0</td>\n",
              "      <td>0.0</td>\n",
              "      <td>65687.0</td>\n",
              "      <td>38199.0</td>\n",
              "      <td>2000.0</td>\n",
              "      <td>61987.0</td>\n",
              "      <td>N</td>\n",
              "      <td>N</td>\n",
              "    </tr>\n",
              "    <tr>\n",
              "      <th>1</th>\n",
              "      <td>25000.0</td>\n",
              "      <td>0.2000</td>\n",
              "      <td>929.09</td>\n",
              "      <td>MORTGAGE</td>\n",
              "      <td>105000.0</td>\n",
              "      <td>Verified</td>\n",
              "      <td>Mar-2019</td>\n",
              "      <td>low_risk</td>\n",
              "      <td>n</td>\n",
              "      <td>20.23</td>\n",
              "      <td>0.0</td>\n",
              "      <td>0.0</td>\n",
              "      <td>17.0</td>\n",
              "      <td>1.0</td>\n",
              "      <td>18368.0</td>\n",
              "      <td>34.0</td>\n",
              "      <td>w</td>\n",
              "      <td>24293.13</td>\n",
              "      <td>24293.13</td>\n",
              "      <td>873.53</td>\n",
              "      <td>873.53</td>\n",
              "      <td>706.87</td>\n",
              "      <td>166.66</td>\n",
              "      <td>0.0</td>\n",
              "      <td>0.0</td>\n",
              "      <td>0.0</td>\n",
              "      <td>929.09</td>\n",
              "      <td>May-2019</td>\n",
              "      <td>0.0</td>\n",
              "      <td>1.0</td>\n",
              "      <td>Individual</td>\n",
              "      <td>0.0</td>\n",
              "      <td>165.0</td>\n",
              "      <td>228119.0</td>\n",
              "      <td>3.0</td>\n",
              "      <td>3.0</td>\n",
              "      <td>2.0</td>\n",
              "      <td>3.0</td>\n",
              "      <td>4.0</td>\n",
              "      <td>42273.0</td>\n",
              "      <td>...</td>\n",
              "      <td>4.0</td>\n",
              "      <td>9.0</td>\n",
              "      <td>3.0</td>\n",
              "      <td>13.0</td>\n",
              "      <td>13419.0</td>\n",
              "      <td>29502.0</td>\n",
              "      <td>28.4</td>\n",
              "      <td>0.0</td>\n",
              "      <td>0.0</td>\n",
              "      <td>87.0</td>\n",
              "      <td>286.0</td>\n",
              "      <td>1.0</td>\n",
              "      <td>1.0</td>\n",
              "      <td>2.0</td>\n",
              "      <td>1.0</td>\n",
              "      <td>11.0</td>\n",
              "      <td>3.0</td>\n",
              "      <td>7.0</td>\n",
              "      <td>11.0</td>\n",
              "      <td>8.0</td>\n",
              "      <td>13.0</td>\n",
              "      <td>14.0</td>\n",
              "      <td>13.0</td>\n",
              "      <td>18.0</td>\n",
              "      <td>11.0</td>\n",
              "      <td>17.0</td>\n",
              "      <td>0.0</td>\n",
              "      <td>0.0</td>\n",
              "      <td>0.0</td>\n",
              "      <td>6.0</td>\n",
              "      <td>91.2</td>\n",
              "      <td>50.0</td>\n",
              "      <td>1.0</td>\n",
              "      <td>0.0</td>\n",
              "      <td>271427.0</td>\n",
              "      <td>60641.0</td>\n",
              "      <td>41200.0</td>\n",
              "      <td>49197.0</td>\n",
              "      <td>N</td>\n",
              "      <td>N</td>\n",
              "    </tr>\n",
              "    <tr>\n",
              "      <th>2</th>\n",
              "      <td>20000.0</td>\n",
              "      <td>0.2000</td>\n",
              "      <td>529.88</td>\n",
              "      <td>MORTGAGE</td>\n",
              "      <td>56000.0</td>\n",
              "      <td>Verified</td>\n",
              "      <td>Mar-2019</td>\n",
              "      <td>low_risk</td>\n",
              "      <td>n</td>\n",
              "      <td>24.26</td>\n",
              "      <td>0.0</td>\n",
              "      <td>0.0</td>\n",
              "      <td>8.0</td>\n",
              "      <td>0.0</td>\n",
              "      <td>13247.0</td>\n",
              "      <td>21.0</td>\n",
              "      <td>w</td>\n",
              "      <td>19636.79</td>\n",
              "      <td>19636.79</td>\n",
              "      <td>485.44</td>\n",
              "      <td>485.44</td>\n",
              "      <td>363.21</td>\n",
              "      <td>122.23</td>\n",
              "      <td>0.0</td>\n",
              "      <td>0.0</td>\n",
              "      <td>0.0</td>\n",
              "      <td>529.88</td>\n",
              "      <td>May-2019</td>\n",
              "      <td>0.0</td>\n",
              "      <td>1.0</td>\n",
              "      <td>Individual</td>\n",
              "      <td>0.0</td>\n",
              "      <td>0.0</td>\n",
              "      <td>45684.0</td>\n",
              "      <td>2.0</td>\n",
              "      <td>3.0</td>\n",
              "      <td>2.0</td>\n",
              "      <td>3.0</td>\n",
              "      <td>4.0</td>\n",
              "      <td>32437.0</td>\n",
              "      <td>...</td>\n",
              "      <td>0.0</td>\n",
              "      <td>4.0</td>\n",
              "      <td>1.0</td>\n",
              "      <td>6.0</td>\n",
              "      <td>5711.0</td>\n",
              "      <td>2839.0</td>\n",
              "      <td>62.1</td>\n",
              "      <td>0.0</td>\n",
              "      <td>0.0</td>\n",
              "      <td>159.0</td>\n",
              "      <td>156.0</td>\n",
              "      <td>7.0</td>\n",
              "      <td>4.0</td>\n",
              "      <td>0.0</td>\n",
              "      <td>7.0</td>\n",
              "      <td>7.0</td>\n",
              "      <td>6.0</td>\n",
              "      <td>2.0</td>\n",
              "      <td>5.0</td>\n",
              "      <td>2.0</td>\n",
              "      <td>7.0</td>\n",
              "      <td>8.0</td>\n",
              "      <td>5.0</td>\n",
              "      <td>13.0</td>\n",
              "      <td>5.0</td>\n",
              "      <td>8.0</td>\n",
              "      <td>0.0</td>\n",
              "      <td>0.0</td>\n",
              "      <td>0.0</td>\n",
              "      <td>4.0</td>\n",
              "      <td>66.7</td>\n",
              "      <td>50.0</td>\n",
              "      <td>0.0</td>\n",
              "      <td>0.0</td>\n",
              "      <td>60644.0</td>\n",
              "      <td>45684.0</td>\n",
              "      <td>7500.0</td>\n",
              "      <td>43144.0</td>\n",
              "      <td>N</td>\n",
              "      <td>N</td>\n",
              "    </tr>\n",
              "    <tr>\n",
              "      <th>3</th>\n",
              "      <td>10000.0</td>\n",
              "      <td>0.1640</td>\n",
              "      <td>353.55</td>\n",
              "      <td>RENT</td>\n",
              "      <td>92000.0</td>\n",
              "      <td>Verified</td>\n",
              "      <td>Mar-2019</td>\n",
              "      <td>low_risk</td>\n",
              "      <td>n</td>\n",
              "      <td>31.44</td>\n",
              "      <td>0.0</td>\n",
              "      <td>1.0</td>\n",
              "      <td>10.0</td>\n",
              "      <td>1.0</td>\n",
              "      <td>17996.0</td>\n",
              "      <td>23.0</td>\n",
              "      <td>w</td>\n",
              "      <td>9719.34</td>\n",
              "      <td>9719.34</td>\n",
              "      <td>335.33</td>\n",
              "      <td>335.33</td>\n",
              "      <td>280.66</td>\n",
              "      <td>54.67</td>\n",
              "      <td>0.0</td>\n",
              "      <td>0.0</td>\n",
              "      <td>0.0</td>\n",
              "      <td>353.55</td>\n",
              "      <td>May-2019</td>\n",
              "      <td>0.0</td>\n",
              "      <td>1.0</td>\n",
              "      <td>Individual</td>\n",
              "      <td>0.0</td>\n",
              "      <td>0.0</td>\n",
              "      <td>68784.0</td>\n",
              "      <td>0.0</td>\n",
              "      <td>4.0</td>\n",
              "      <td>1.0</td>\n",
              "      <td>3.0</td>\n",
              "      <td>9.0</td>\n",
              "      <td>50788.0</td>\n",
              "      <td>...</td>\n",
              "      <td>3.0</td>\n",
              "      <td>5.0</td>\n",
              "      <td>4.0</td>\n",
              "      <td>4.0</td>\n",
              "      <td>6878.0</td>\n",
              "      <td>4899.0</td>\n",
              "      <td>75.1</td>\n",
              "      <td>0.0</td>\n",
              "      <td>0.0</td>\n",
              "      <td>100.0</td>\n",
              "      <td>89.0</td>\n",
              "      <td>24.0</td>\n",
              "      <td>9.0</td>\n",
              "      <td>0.0</td>\n",
              "      <td>34.0</td>\n",
              "      <td>0.0</td>\n",
              "      <td>0.0</td>\n",
              "      <td>4.0</td>\n",
              "      <td>6.0</td>\n",
              "      <td>4.0</td>\n",
              "      <td>4.0</td>\n",
              "      <td>17.0</td>\n",
              "      <td>6.0</td>\n",
              "      <td>6.0</td>\n",
              "      <td>6.0</td>\n",
              "      <td>10.0</td>\n",
              "      <td>0.0</td>\n",
              "      <td>0.0</td>\n",
              "      <td>0.0</td>\n",
              "      <td>1.0</td>\n",
              "      <td>100.0</td>\n",
              "      <td>50.0</td>\n",
              "      <td>1.0</td>\n",
              "      <td>0.0</td>\n",
              "      <td>99506.0</td>\n",
              "      <td>68784.0</td>\n",
              "      <td>19700.0</td>\n",
              "      <td>76506.0</td>\n",
              "      <td>N</td>\n",
              "      <td>N</td>\n",
              "    </tr>\n",
              "    <tr>\n",
              "      <th>4</th>\n",
              "      <td>22000.0</td>\n",
              "      <td>0.1474</td>\n",
              "      <td>520.39</td>\n",
              "      <td>MORTGAGE</td>\n",
              "      <td>52000.0</td>\n",
              "      <td>Not Verified</td>\n",
              "      <td>Mar-2019</td>\n",
              "      <td>low_risk</td>\n",
              "      <td>n</td>\n",
              "      <td>18.76</td>\n",
              "      <td>0.0</td>\n",
              "      <td>1.0</td>\n",
              "      <td>14.0</td>\n",
              "      <td>0.0</td>\n",
              "      <td>9091.0</td>\n",
              "      <td>28.0</td>\n",
              "      <td>w</td>\n",
              "      <td>21614.73</td>\n",
              "      <td>21614.73</td>\n",
              "      <td>484.36</td>\n",
              "      <td>484.36</td>\n",
              "      <td>385.27</td>\n",
              "      <td>99.09</td>\n",
              "      <td>0.0</td>\n",
              "      <td>0.0</td>\n",
              "      <td>0.0</td>\n",
              "      <td>520.39</td>\n",
              "      <td>May-2019</td>\n",
              "      <td>0.0</td>\n",
              "      <td>1.0</td>\n",
              "      <td>Individual</td>\n",
              "      <td>0.0</td>\n",
              "      <td>0.0</td>\n",
              "      <td>177745.0</td>\n",
              "      <td>0.0</td>\n",
              "      <td>1.0</td>\n",
              "      <td>0.0</td>\n",
              "      <td>2.0</td>\n",
              "      <td>14.0</td>\n",
              "      <td>16828.0</td>\n",
              "      <td>...</td>\n",
              "      <td>2.0</td>\n",
              "      <td>0.0</td>\n",
              "      <td>2.0</td>\n",
              "      <td>4.0</td>\n",
              "      <td>13673.0</td>\n",
              "      <td>19699.0</td>\n",
              "      <td>28.6</td>\n",
              "      <td>0.0</td>\n",
              "      <td>0.0</td>\n",
              "      <td>67.0</td>\n",
              "      <td>138.0</td>\n",
              "      <td>11.0</td>\n",
              "      <td>11.0</td>\n",
              "      <td>4.0</td>\n",
              "      <td>11.0</td>\n",
              "      <td>0.0</td>\n",
              "      <td>0.0</td>\n",
              "      <td>4.0</td>\n",
              "      <td>6.0</td>\n",
              "      <td>7.0</td>\n",
              "      <td>11.0</td>\n",
              "      <td>6.0</td>\n",
              "      <td>12.0</td>\n",
              "      <td>18.0</td>\n",
              "      <td>6.0</td>\n",
              "      <td>14.0</td>\n",
              "      <td>0.0</td>\n",
              "      <td>0.0</td>\n",
              "      <td>0.0</td>\n",
              "      <td>1.0</td>\n",
              "      <td>100.0</td>\n",
              "      <td>0.0</td>\n",
              "      <td>0.0</td>\n",
              "      <td>0.0</td>\n",
              "      <td>219750.0</td>\n",
              "      <td>25919.0</td>\n",
              "      <td>27600.0</td>\n",
              "      <td>20000.0</td>\n",
              "      <td>N</td>\n",
              "      <td>N</td>\n",
              "    </tr>\n",
              "  </tbody>\n",
              "</table>\n",
              "<p>5 rows × 86 columns</p>\n",
              "</div>"
            ],
            "text/plain": [
              "   loan_amnt  int_rate  ...  hardship_flag debt_settlement_flag\n",
              "0    10500.0    0.1719  ...              N                    N\n",
              "1    25000.0    0.2000  ...              N                    N\n",
              "2    20000.0    0.2000  ...              N                    N\n",
              "3    10000.0    0.1640  ...              N                    N\n",
              "4    22000.0    0.1474  ...              N                    N\n",
              "\n",
              "[5 rows x 86 columns]"
            ]
          },
          "metadata": {},
          "execution_count": 5
        }
      ]
    },
    {
      "cell_type": "markdown",
      "metadata": {
        "id": "nXRt39hgcLXL"
      },
      "source": [
        "# Split the Data into Training and Testing"
      ]
    },
    {
      "cell_type": "code",
      "metadata": {
        "id": "yIkP9xspcLXL"
      },
      "source": [
        "y = df[\"loan_status\"]\n",
        "# Create our features\n",
        "X = df.drop(columns=\"loan_status\")\n",
        "X = pd.get_dummies(X)\n",
        "\n",
        "# Create our target\n",
        "\n"
      ],
      "execution_count": 7,
      "outputs": []
    },
    {
      "cell_type": "code",
      "metadata": {
        "colab": {
          "base_uri": "https://localhost:8080/",
          "height": 363
        },
        "id": "itFayPqbcLXM",
        "outputId": "60a3f0e5-5257-4532-fc62-9527063a8a58"
      },
      "source": [
        "X.describe()"
      ],
      "execution_count": 8,
      "outputs": [
        {
          "output_type": "execute_result",
          "data": {
            "text/html": [
              "<div>\n",
              "<style scoped>\n",
              "    .dataframe tbody tr th:only-of-type {\n",
              "        vertical-align: middle;\n",
              "    }\n",
              "\n",
              "    .dataframe tbody tr th {\n",
              "        vertical-align: top;\n",
              "    }\n",
              "\n",
              "    .dataframe thead th {\n",
              "        text-align: right;\n",
              "    }\n",
              "</style>\n",
              "<table border=\"1\" class=\"dataframe\">\n",
              "  <thead>\n",
              "    <tr style=\"text-align: right;\">\n",
              "      <th></th>\n",
              "      <th>loan_amnt</th>\n",
              "      <th>int_rate</th>\n",
              "      <th>installment</th>\n",
              "      <th>annual_inc</th>\n",
              "      <th>dti</th>\n",
              "      <th>delinq_2yrs</th>\n",
              "      <th>inq_last_6mths</th>\n",
              "      <th>open_acc</th>\n",
              "      <th>pub_rec</th>\n",
              "      <th>revol_bal</th>\n",
              "      <th>total_acc</th>\n",
              "      <th>out_prncp</th>\n",
              "      <th>out_prncp_inv</th>\n",
              "      <th>total_pymnt</th>\n",
              "      <th>total_pymnt_inv</th>\n",
              "      <th>total_rec_prncp</th>\n",
              "      <th>total_rec_int</th>\n",
              "      <th>total_rec_late_fee</th>\n",
              "      <th>recoveries</th>\n",
              "      <th>collection_recovery_fee</th>\n",
              "      <th>last_pymnt_amnt</th>\n",
              "      <th>collections_12_mths_ex_med</th>\n",
              "      <th>policy_code</th>\n",
              "      <th>acc_now_delinq</th>\n",
              "      <th>tot_coll_amt</th>\n",
              "      <th>tot_cur_bal</th>\n",
              "      <th>open_acc_6m</th>\n",
              "      <th>open_act_il</th>\n",
              "      <th>open_il_12m</th>\n",
              "      <th>open_il_24m</th>\n",
              "      <th>mths_since_rcnt_il</th>\n",
              "      <th>total_bal_il</th>\n",
              "      <th>il_util</th>\n",
              "      <th>open_rv_12m</th>\n",
              "      <th>open_rv_24m</th>\n",
              "      <th>max_bal_bc</th>\n",
              "      <th>all_util</th>\n",
              "      <th>total_rev_hi_lim</th>\n",
              "      <th>inq_fi</th>\n",
              "      <th>total_cu_tl</th>\n",
              "      <th>...</th>\n",
              "      <th>num_actv_bc_tl</th>\n",
              "      <th>num_actv_rev_tl</th>\n",
              "      <th>num_bc_sats</th>\n",
              "      <th>num_bc_tl</th>\n",
              "      <th>num_il_tl</th>\n",
              "      <th>num_op_rev_tl</th>\n",
              "      <th>num_rev_accts</th>\n",
              "      <th>num_rev_tl_bal_gt_0</th>\n",
              "      <th>num_sats</th>\n",
              "      <th>num_tl_120dpd_2m</th>\n",
              "      <th>num_tl_30dpd</th>\n",
              "      <th>num_tl_90g_dpd_24m</th>\n",
              "      <th>num_tl_op_past_12m</th>\n",
              "      <th>pct_tl_nvr_dlq</th>\n",
              "      <th>percent_bc_gt_75</th>\n",
              "      <th>pub_rec_bankruptcies</th>\n",
              "      <th>tax_liens</th>\n",
              "      <th>tot_hi_cred_lim</th>\n",
              "      <th>total_bal_ex_mort</th>\n",
              "      <th>total_bc_limit</th>\n",
              "      <th>total_il_high_credit_limit</th>\n",
              "      <th>home_ownership_ANY</th>\n",
              "      <th>home_ownership_MORTGAGE</th>\n",
              "      <th>home_ownership_OWN</th>\n",
              "      <th>home_ownership_RENT</th>\n",
              "      <th>verification_status_Not Verified</th>\n",
              "      <th>verification_status_Source Verified</th>\n",
              "      <th>verification_status_Verified</th>\n",
              "      <th>issue_d_Feb-2019</th>\n",
              "      <th>issue_d_Jan-2019</th>\n",
              "      <th>issue_d_Mar-2019</th>\n",
              "      <th>pymnt_plan_n</th>\n",
              "      <th>initial_list_status_f</th>\n",
              "      <th>initial_list_status_w</th>\n",
              "      <th>next_pymnt_d_Apr-2019</th>\n",
              "      <th>next_pymnt_d_May-2019</th>\n",
              "      <th>application_type_Individual</th>\n",
              "      <th>application_type_Joint App</th>\n",
              "      <th>hardship_flag_N</th>\n",
              "      <th>debt_settlement_flag_N</th>\n",
              "    </tr>\n",
              "  </thead>\n",
              "  <tbody>\n",
              "    <tr>\n",
              "      <th>count</th>\n",
              "      <td>68817.000000</td>\n",
              "      <td>68817.000000</td>\n",
              "      <td>68817.000000</td>\n",
              "      <td>6.881700e+04</td>\n",
              "      <td>68817.000000</td>\n",
              "      <td>68817.000000</td>\n",
              "      <td>68817.000000</td>\n",
              "      <td>68817.000000</td>\n",
              "      <td>68817.000000</td>\n",
              "      <td>68817.000000</td>\n",
              "      <td>68817.000000</td>\n",
              "      <td>68817.000000</td>\n",
              "      <td>68817.000000</td>\n",
              "      <td>68817.000000</td>\n",
              "      <td>68817.000000</td>\n",
              "      <td>68817.000000</td>\n",
              "      <td>68817.000000</td>\n",
              "      <td>68817.000000</td>\n",
              "      <td>68817.0</td>\n",
              "      <td>68817.0</td>\n",
              "      <td>68817.000000</td>\n",
              "      <td>68817.000000</td>\n",
              "      <td>68817.0</td>\n",
              "      <td>68817.0</td>\n",
              "      <td>68817.000000</td>\n",
              "      <td>6.881700e+04</td>\n",
              "      <td>68817.000000</td>\n",
              "      <td>68817.000000</td>\n",
              "      <td>68817.000000</td>\n",
              "      <td>68817.000000</td>\n",
              "      <td>68817.000000</td>\n",
              "      <td>6.881700e+04</td>\n",
              "      <td>68817.00000</td>\n",
              "      <td>68817.000000</td>\n",
              "      <td>68817.000000</td>\n",
              "      <td>68817.000000</td>\n",
              "      <td>68817.000000</td>\n",
              "      <td>68817.000000</td>\n",
              "      <td>68817.000000</td>\n",
              "      <td>68817.000000</td>\n",
              "      <td>...</td>\n",
              "      <td>68817.000000</td>\n",
              "      <td>68817.000000</td>\n",
              "      <td>68817.000000</td>\n",
              "      <td>68817.000000</td>\n",
              "      <td>68817.000000</td>\n",
              "      <td>68817.000000</td>\n",
              "      <td>68817.000000</td>\n",
              "      <td>68817.000000</td>\n",
              "      <td>68817.000000</td>\n",
              "      <td>68817.0</td>\n",
              "      <td>68817.0</td>\n",
              "      <td>68817.000000</td>\n",
              "      <td>68817.000000</td>\n",
              "      <td>68817.000000</td>\n",
              "      <td>68817.000000</td>\n",
              "      <td>68817.000000</td>\n",
              "      <td>68817.0</td>\n",
              "      <td>6.881700e+04</td>\n",
              "      <td>6.881700e+04</td>\n",
              "      <td>68817.000000</td>\n",
              "      <td>6.881700e+04</td>\n",
              "      <td>68817.000000</td>\n",
              "      <td>68817.000000</td>\n",
              "      <td>68817.000000</td>\n",
              "      <td>68817.000000</td>\n",
              "      <td>68817.000000</td>\n",
              "      <td>68817.000000</td>\n",
              "      <td>68817.000000</td>\n",
              "      <td>68817.000000</td>\n",
              "      <td>68817.000000</td>\n",
              "      <td>68817.000000</td>\n",
              "      <td>68817.0</td>\n",
              "      <td>68817.000000</td>\n",
              "      <td>68817.000000</td>\n",
              "      <td>68817.000000</td>\n",
              "      <td>68817.000000</td>\n",
              "      <td>68817.000000</td>\n",
              "      <td>68817.000000</td>\n",
              "      <td>68817.0</td>\n",
              "      <td>68817.0</td>\n",
              "    </tr>\n",
              "    <tr>\n",
              "      <th>mean</th>\n",
              "      <td>16677.594562</td>\n",
              "      <td>0.127718</td>\n",
              "      <td>480.652863</td>\n",
              "      <td>8.821371e+04</td>\n",
              "      <td>21.778153</td>\n",
              "      <td>0.217766</td>\n",
              "      <td>0.497697</td>\n",
              "      <td>12.587340</td>\n",
              "      <td>0.126030</td>\n",
              "      <td>17604.142828</td>\n",
              "      <td>24.666347</td>\n",
              "      <td>16018.845833</td>\n",
              "      <td>16015.919519</td>\n",
              "      <td>970.639473</td>\n",
              "      <td>970.431151</td>\n",
              "      <td>658.748750</td>\n",
              "      <td>311.855687</td>\n",
              "      <td>0.035072</td>\n",
              "      <td>0.0</td>\n",
              "      <td>0.0</td>\n",
              "      <td>517.202218</td>\n",
              "      <td>0.016188</td>\n",
              "      <td>1.0</td>\n",
              "      <td>0.0</td>\n",
              "      <td>188.664298</td>\n",
              "      <td>1.634976e+05</td>\n",
              "      <td>1.023047</td>\n",
              "      <td>3.290481</td>\n",
              "      <td>0.843730</td>\n",
              "      <td>1.909644</td>\n",
              "      <td>14.303152</td>\n",
              "      <td>4.324044e+04</td>\n",
              "      <td>69.21191</td>\n",
              "      <td>1.240042</td>\n",
              "      <td>2.622245</td>\n",
              "      <td>6297.491710</td>\n",
              "      <td>55.702472</td>\n",
              "      <td>42431.895360</td>\n",
              "      <td>1.382071</td>\n",
              "      <td>1.687795</td>\n",
              "      <td>...</td>\n",
              "      <td>3.806123</td>\n",
              "      <td>5.648038</td>\n",
              "      <td>5.135156</td>\n",
              "      <td>7.414403</td>\n",
              "      <td>9.500153</td>\n",
              "      <td>8.630818</td>\n",
              "      <td>13.517663</td>\n",
              "      <td>5.653036</td>\n",
              "      <td>12.571995</td>\n",
              "      <td>0.0</td>\n",
              "      <td>0.0</td>\n",
              "      <td>0.052138</td>\n",
              "      <td>2.219423</td>\n",
              "      <td>95.057627</td>\n",
              "      <td>30.626217</td>\n",
              "      <td>0.125972</td>\n",
              "      <td>0.0</td>\n",
              "      <td>2.100332e+05</td>\n",
              "      <td>6.133843e+04</td>\n",
              "      <td>29734.128558</td>\n",
              "      <td>5.572240e+04</td>\n",
              "      <td>0.009285</td>\n",
              "      <td>0.526309</td>\n",
              "      <td>0.106747</td>\n",
              "      <td>0.357659</td>\n",
              "      <td>0.478007</td>\n",
              "      <td>0.373992</td>\n",
              "      <td>0.148001</td>\n",
              "      <td>0.371696</td>\n",
              "      <td>0.451066</td>\n",
              "      <td>0.177238</td>\n",
              "      <td>1.0</td>\n",
              "      <td>0.123879</td>\n",
              "      <td>0.876121</td>\n",
              "      <td>0.383161</td>\n",
              "      <td>0.616839</td>\n",
              "      <td>0.860340</td>\n",
              "      <td>0.139660</td>\n",
              "      <td>1.0</td>\n",
              "      <td>1.0</td>\n",
              "    </tr>\n",
              "    <tr>\n",
              "      <th>std</th>\n",
              "      <td>10277.348590</td>\n",
              "      <td>0.048130</td>\n",
              "      <td>288.062432</td>\n",
              "      <td>1.155800e+05</td>\n",
              "      <td>20.199244</td>\n",
              "      <td>0.718367</td>\n",
              "      <td>0.758122</td>\n",
              "      <td>6.022869</td>\n",
              "      <td>0.336797</td>\n",
              "      <td>21835.880400</td>\n",
              "      <td>12.318917</td>\n",
              "      <td>10002.695495</td>\n",
              "      <td>10004.985940</td>\n",
              "      <td>1229.563301</td>\n",
              "      <td>1229.569864</td>\n",
              "      <td>1126.237377</td>\n",
              "      <td>279.786954</td>\n",
              "      <td>1.086720</td>\n",
              "      <td>0.0</td>\n",
              "      <td>0.0</td>\n",
              "      <td>816.021053</td>\n",
              "      <td>0.134774</td>\n",
              "      <td>0.0</td>\n",
              "      <td>0.0</td>\n",
              "      <td>1808.457195</td>\n",
              "      <td>1.723699e+05</td>\n",
              "      <td>1.176782</td>\n",
              "      <td>2.965579</td>\n",
              "      <td>0.970543</td>\n",
              "      <td>1.544994</td>\n",
              "      <td>13.972619</td>\n",
              "      <td>4.956130e+04</td>\n",
              "      <td>22.33711</td>\n",
              "      <td>1.471745</td>\n",
              "      <td>2.502608</td>\n",
              "      <td>5702.281757</td>\n",
              "      <td>18.495480</td>\n",
              "      <td>37166.229316</td>\n",
              "      <td>1.543220</td>\n",
              "      <td>2.852664</td>\n",
              "      <td>...</td>\n",
              "      <td>2.464504</td>\n",
              "      <td>3.470941</td>\n",
              "      <td>3.230651</td>\n",
              "      <td>4.581371</td>\n",
              "      <td>7.573846</td>\n",
              "      <td>5.056994</td>\n",
              "      <td>8.026158</td>\n",
              "      <td>3.472679</td>\n",
              "      <td>6.021318</td>\n",
              "      <td>0.0</td>\n",
              "      <td>0.0</td>\n",
              "      <td>0.390633</td>\n",
              "      <td>1.897432</td>\n",
              "      <td>8.326426</td>\n",
              "      <td>33.631463</td>\n",
              "      <td>0.336732</td>\n",
              "      <td>0.0</td>\n",
              "      <td>1.928088e+05</td>\n",
              "      <td>5.738798e+04</td>\n",
              "      <td>26795.394232</td>\n",
              "      <td>5.095845e+04</td>\n",
              "      <td>0.095914</td>\n",
              "      <td>0.499311</td>\n",
              "      <td>0.308793</td>\n",
              "      <td>0.479314</td>\n",
              "      <td>0.499520</td>\n",
              "      <td>0.483865</td>\n",
              "      <td>0.355104</td>\n",
              "      <td>0.483261</td>\n",
              "      <td>0.497603</td>\n",
              "      <td>0.381873</td>\n",
              "      <td>0.0</td>\n",
              "      <td>0.329446</td>\n",
              "      <td>0.329446</td>\n",
              "      <td>0.486161</td>\n",
              "      <td>0.486161</td>\n",
              "      <td>0.346637</td>\n",
              "      <td>0.346637</td>\n",
              "      <td>0.0</td>\n",
              "      <td>0.0</td>\n",
              "    </tr>\n",
              "    <tr>\n",
              "      <th>min</th>\n",
              "      <td>1000.000000</td>\n",
              "      <td>0.060000</td>\n",
              "      <td>30.890000</td>\n",
              "      <td>4.000000e+01</td>\n",
              "      <td>0.000000</td>\n",
              "      <td>0.000000</td>\n",
              "      <td>0.000000</td>\n",
              "      <td>2.000000</td>\n",
              "      <td>0.000000</td>\n",
              "      <td>0.000000</td>\n",
              "      <td>3.000000</td>\n",
              "      <td>0.000000</td>\n",
              "      <td>0.000000</td>\n",
              "      <td>0.000000</td>\n",
              "      <td>0.000000</td>\n",
              "      <td>0.000000</td>\n",
              "      <td>0.000000</td>\n",
              "      <td>0.000000</td>\n",
              "      <td>0.0</td>\n",
              "      <td>0.0</td>\n",
              "      <td>0.000000</td>\n",
              "      <td>0.000000</td>\n",
              "      <td>1.0</td>\n",
              "      <td>0.0</td>\n",
              "      <td>0.000000</td>\n",
              "      <td>2.350000e+02</td>\n",
              "      <td>0.000000</td>\n",
              "      <td>0.000000</td>\n",
              "      <td>0.000000</td>\n",
              "      <td>0.000000</td>\n",
              "      <td>0.000000</td>\n",
              "      <td>1.000000e+00</td>\n",
              "      <td>0.00000</td>\n",
              "      <td>0.000000</td>\n",
              "      <td>0.000000</td>\n",
              "      <td>0.000000</td>\n",
              "      <td>1.000000</td>\n",
              "      <td>200.000000</td>\n",
              "      <td>0.000000</td>\n",
              "      <td>0.000000</td>\n",
              "      <td>...</td>\n",
              "      <td>0.000000</td>\n",
              "      <td>0.000000</td>\n",
              "      <td>0.000000</td>\n",
              "      <td>1.000000</td>\n",
              "      <td>1.000000</td>\n",
              "      <td>1.000000</td>\n",
              "      <td>2.000000</td>\n",
              "      <td>0.000000</td>\n",
              "      <td>2.000000</td>\n",
              "      <td>0.0</td>\n",
              "      <td>0.0</td>\n",
              "      <td>0.000000</td>\n",
              "      <td>0.000000</td>\n",
              "      <td>20.000000</td>\n",
              "      <td>0.000000</td>\n",
              "      <td>0.000000</td>\n",
              "      <td>0.0</td>\n",
              "      <td>3.600000e+03</td>\n",
              "      <td>2.350000e+02</td>\n",
              "      <td>100.000000</td>\n",
              "      <td>1.270000e+02</td>\n",
              "      <td>0.000000</td>\n",
              "      <td>0.000000</td>\n",
              "      <td>0.000000</td>\n",
              "      <td>0.000000</td>\n",
              "      <td>0.000000</td>\n",
              "      <td>0.000000</td>\n",
              "      <td>0.000000</td>\n",
              "      <td>0.000000</td>\n",
              "      <td>0.000000</td>\n",
              "      <td>0.000000</td>\n",
              "      <td>1.0</td>\n",
              "      <td>0.000000</td>\n",
              "      <td>0.000000</td>\n",
              "      <td>0.000000</td>\n",
              "      <td>0.000000</td>\n",
              "      <td>0.000000</td>\n",
              "      <td>0.000000</td>\n",
              "      <td>1.0</td>\n",
              "      <td>1.0</td>\n",
              "    </tr>\n",
              "    <tr>\n",
              "      <th>25%</th>\n",
              "      <td>9000.000000</td>\n",
              "      <td>0.088100</td>\n",
              "      <td>265.730000</td>\n",
              "      <td>5.000000e+04</td>\n",
              "      <td>13.890000</td>\n",
              "      <td>0.000000</td>\n",
              "      <td>0.000000</td>\n",
              "      <td>8.000000</td>\n",
              "      <td>0.000000</td>\n",
              "      <td>6293.000000</td>\n",
              "      <td>16.000000</td>\n",
              "      <td>8578.800000</td>\n",
              "      <td>8576.500000</td>\n",
              "      <td>403.760000</td>\n",
              "      <td>403.550000</td>\n",
              "      <td>250.370000</td>\n",
              "      <td>115.440000</td>\n",
              "      <td>0.000000</td>\n",
              "      <td>0.0</td>\n",
              "      <td>0.0</td>\n",
              "      <td>267.110000</td>\n",
              "      <td>0.000000</td>\n",
              "      <td>1.0</td>\n",
              "      <td>0.0</td>\n",
              "      <td>0.000000</td>\n",
              "      <td>3.570000e+04</td>\n",
              "      <td>0.000000</td>\n",
              "      <td>2.000000</td>\n",
              "      <td>0.000000</td>\n",
              "      <td>1.000000</td>\n",
              "      <td>6.000000</td>\n",
              "      <td>1.422300e+04</td>\n",
              "      <td>56.00000</td>\n",
              "      <td>0.000000</td>\n",
              "      <td>1.000000</td>\n",
              "      <td>2558.000000</td>\n",
              "      <td>43.000000</td>\n",
              "      <td>19200.000000</td>\n",
              "      <td>0.000000</td>\n",
              "      <td>0.000000</td>\n",
              "      <td>...</td>\n",
              "      <td>2.000000</td>\n",
              "      <td>3.000000</td>\n",
              "      <td>3.000000</td>\n",
              "      <td>4.000000</td>\n",
              "      <td>4.000000</td>\n",
              "      <td>5.000000</td>\n",
              "      <td>8.000000</td>\n",
              "      <td>3.000000</td>\n",
              "      <td>8.000000</td>\n",
              "      <td>0.0</td>\n",
              "      <td>0.0</td>\n",
              "      <td>0.000000</td>\n",
              "      <td>1.000000</td>\n",
              "      <td>93.000000</td>\n",
              "      <td>0.000000</td>\n",
              "      <td>0.000000</td>\n",
              "      <td>0.0</td>\n",
              "      <td>6.697700e+04</td>\n",
              "      <td>2.650300e+04</td>\n",
              "      <td>11600.000000</td>\n",
              "      <td>2.288000e+04</td>\n",
              "      <td>0.000000</td>\n",
              "      <td>0.000000</td>\n",
              "      <td>0.000000</td>\n",
              "      <td>0.000000</td>\n",
              "      <td>0.000000</td>\n",
              "      <td>0.000000</td>\n",
              "      <td>0.000000</td>\n",
              "      <td>0.000000</td>\n",
              "      <td>0.000000</td>\n",
              "      <td>0.000000</td>\n",
              "      <td>1.0</td>\n",
              "      <td>0.000000</td>\n",
              "      <td>1.000000</td>\n",
              "      <td>0.000000</td>\n",
              "      <td>0.000000</td>\n",
              "      <td>1.000000</td>\n",
              "      <td>0.000000</td>\n",
              "      <td>1.0</td>\n",
              "      <td>1.0</td>\n",
              "    </tr>\n",
              "    <tr>\n",
              "      <th>50%</th>\n",
              "      <td>15000.000000</td>\n",
              "      <td>0.118000</td>\n",
              "      <td>404.560000</td>\n",
              "      <td>7.300000e+04</td>\n",
              "      <td>19.760000</td>\n",
              "      <td>0.000000</td>\n",
              "      <td>0.000000</td>\n",
              "      <td>11.000000</td>\n",
              "      <td>0.000000</td>\n",
              "      <td>12068.000000</td>\n",
              "      <td>23.000000</td>\n",
              "      <td>14067.750000</td>\n",
              "      <td>14061.030000</td>\n",
              "      <td>710.790000</td>\n",
              "      <td>710.790000</td>\n",
              "      <td>449.890000</td>\n",
              "      <td>225.250000</td>\n",
              "      <td>0.000000</td>\n",
              "      <td>0.0</td>\n",
              "      <td>0.0</td>\n",
              "      <td>408.520000</td>\n",
              "      <td>0.000000</td>\n",
              "      <td>1.0</td>\n",
              "      <td>0.0</td>\n",
              "      <td>0.000000</td>\n",
              "      <td>9.960600e+04</td>\n",
              "      <td>1.000000</td>\n",
              "      <td>2.000000</td>\n",
              "      <td>1.000000</td>\n",
              "      <td>2.000000</td>\n",
              "      <td>11.000000</td>\n",
              "      <td>2.862600e+04</td>\n",
              "      <td>71.00000</td>\n",
              "      <td>1.000000</td>\n",
              "      <td>2.000000</td>\n",
              "      <td>4874.000000</td>\n",
              "      <td>56.000000</td>\n",
              "      <td>32800.000000</td>\n",
              "      <td>1.000000</td>\n",
              "      <td>1.000000</td>\n",
              "      <td>...</td>\n",
              "      <td>3.000000</td>\n",
              "      <td>5.000000</td>\n",
              "      <td>4.000000</td>\n",
              "      <td>6.000000</td>\n",
              "      <td>7.000000</td>\n",
              "      <td>8.000000</td>\n",
              "      <td>12.000000</td>\n",
              "      <td>5.000000</td>\n",
              "      <td>11.000000</td>\n",
              "      <td>0.0</td>\n",
              "      <td>0.0</td>\n",
              "      <td>0.000000</td>\n",
              "      <td>2.000000</td>\n",
              "      <td>100.000000</td>\n",
              "      <td>20.000000</td>\n",
              "      <td>0.000000</td>\n",
              "      <td>0.0</td>\n",
              "      <td>1.467100e+05</td>\n",
              "      <td>4.535700e+04</td>\n",
              "      <td>22100.000000</td>\n",
              "      <td>4.200000e+04</td>\n",
              "      <td>0.000000</td>\n",
              "      <td>1.000000</td>\n",
              "      <td>0.000000</td>\n",
              "      <td>0.000000</td>\n",
              "      <td>0.000000</td>\n",
              "      <td>0.000000</td>\n",
              "      <td>0.000000</td>\n",
              "      <td>0.000000</td>\n",
              "      <td>0.000000</td>\n",
              "      <td>0.000000</td>\n",
              "      <td>1.0</td>\n",
              "      <td>0.000000</td>\n",
              "      <td>1.000000</td>\n",
              "      <td>0.000000</td>\n",
              "      <td>1.000000</td>\n",
              "      <td>1.000000</td>\n",
              "      <td>0.000000</td>\n",
              "      <td>1.0</td>\n",
              "      <td>1.0</td>\n",
              "    </tr>\n",
              "    <tr>\n",
              "      <th>75%</th>\n",
              "      <td>24000.000000</td>\n",
              "      <td>0.155700</td>\n",
              "      <td>648.100000</td>\n",
              "      <td>1.040000e+05</td>\n",
              "      <td>26.660000</td>\n",
              "      <td>0.000000</td>\n",
              "      <td>1.000000</td>\n",
              "      <td>16.000000</td>\n",
              "      <td>0.000000</td>\n",
              "      <td>21735.000000</td>\n",
              "      <td>31.000000</td>\n",
              "      <td>22860.700000</td>\n",
              "      <td>22860.490000</td>\n",
              "      <td>1214.600000</td>\n",
              "      <td>1214.590000</td>\n",
              "      <td>762.170000</td>\n",
              "      <td>415.710000</td>\n",
              "      <td>0.000000</td>\n",
              "      <td>0.0</td>\n",
              "      <td>0.0</td>\n",
              "      <td>652.580000</td>\n",
              "      <td>0.000000</td>\n",
              "      <td>1.0</td>\n",
              "      <td>0.0</td>\n",
              "      <td>0.000000</td>\n",
              "      <td>2.472060e+05</td>\n",
              "      <td>2.000000</td>\n",
              "      <td>4.000000</td>\n",
              "      <td>1.000000</td>\n",
              "      <td>3.000000</td>\n",
              "      <td>18.000000</td>\n",
              "      <td>5.406500e+04</td>\n",
              "      <td>85.00000</td>\n",
              "      <td>2.000000</td>\n",
              "      <td>4.000000</td>\n",
              "      <td>8321.000000</td>\n",
              "      <td>68.000000</td>\n",
              "      <td>54100.000000</td>\n",
              "      <td>2.000000</td>\n",
              "      <td>2.000000</td>\n",
              "      <td>...</td>\n",
              "      <td>5.000000</td>\n",
              "      <td>7.000000</td>\n",
              "      <td>7.000000</td>\n",
              "      <td>10.000000</td>\n",
              "      <td>12.000000</td>\n",
              "      <td>11.000000</td>\n",
              "      <td>17.000000</td>\n",
              "      <td>7.000000</td>\n",
              "      <td>16.000000</td>\n",
              "      <td>0.0</td>\n",
              "      <td>0.0</td>\n",
              "      <td>0.000000</td>\n",
              "      <td>3.000000</td>\n",
              "      <td>100.000000</td>\n",
              "      <td>50.000000</td>\n",
              "      <td>0.000000</td>\n",
              "      <td>0.0</td>\n",
              "      <td>3.036400e+05</td>\n",
              "      <td>7.657000e+04</td>\n",
              "      <td>39300.000000</td>\n",
              "      <td>7.249900e+04</td>\n",
              "      <td>0.000000</td>\n",
              "      <td>1.000000</td>\n",
              "      <td>0.000000</td>\n",
              "      <td>1.000000</td>\n",
              "      <td>1.000000</td>\n",
              "      <td>1.000000</td>\n",
              "      <td>0.000000</td>\n",
              "      <td>1.000000</td>\n",
              "      <td>1.000000</td>\n",
              "      <td>0.000000</td>\n",
              "      <td>1.0</td>\n",
              "      <td>0.000000</td>\n",
              "      <td>1.000000</td>\n",
              "      <td>1.000000</td>\n",
              "      <td>1.000000</td>\n",
              "      <td>1.000000</td>\n",
              "      <td>0.000000</td>\n",
              "      <td>1.0</td>\n",
              "      <td>1.0</td>\n",
              "    </tr>\n",
              "    <tr>\n",
              "      <th>max</th>\n",
              "      <td>40000.000000</td>\n",
              "      <td>0.308400</td>\n",
              "      <td>1676.230000</td>\n",
              "      <td>8.797500e+06</td>\n",
              "      <td>999.000000</td>\n",
              "      <td>18.000000</td>\n",
              "      <td>5.000000</td>\n",
              "      <td>72.000000</td>\n",
              "      <td>4.000000</td>\n",
              "      <td>587191.000000</td>\n",
              "      <td>164.000000</td>\n",
              "      <td>40000.000000</td>\n",
              "      <td>40000.000000</td>\n",
              "      <td>41418.981165</td>\n",
              "      <td>41418.980000</td>\n",
              "      <td>40000.000000</td>\n",
              "      <td>2735.400000</td>\n",
              "      <td>75.240000</td>\n",
              "      <td>0.0</td>\n",
              "      <td>0.0</td>\n",
              "      <td>40500.340000</td>\n",
              "      <td>4.000000</td>\n",
              "      <td>1.0</td>\n",
              "      <td>0.0</td>\n",
              "      <td>159199.000000</td>\n",
              "      <td>3.140082e+06</td>\n",
              "      <td>14.000000</td>\n",
              "      <td>63.000000</td>\n",
              "      <td>6.000000</td>\n",
              "      <td>22.000000</td>\n",
              "      <td>389.000000</td>\n",
              "      <td>1.260281e+06</td>\n",
              "      <td>313.00000</td>\n",
              "      <td>18.000000</td>\n",
              "      <td>44.000000</td>\n",
              "      <td>207484.000000</td>\n",
              "      <td>216.000000</td>\n",
              "      <td>759500.000000</td>\n",
              "      <td>29.000000</td>\n",
              "      <td>70.000000</td>\n",
              "      <td>...</td>\n",
              "      <td>26.000000</td>\n",
              "      <td>43.000000</td>\n",
              "      <td>43.000000</td>\n",
              "      <td>60.000000</td>\n",
              "      <td>149.000000</td>\n",
              "      <td>70.000000</td>\n",
              "      <td>98.000000</td>\n",
              "      <td>43.000000</td>\n",
              "      <td>72.000000</td>\n",
              "      <td>0.0</td>\n",
              "      <td>0.0</td>\n",
              "      <td>18.000000</td>\n",
              "      <td>19.000000</td>\n",
              "      <td>100.000000</td>\n",
              "      <td>100.000000</td>\n",
              "      <td>4.000000</td>\n",
              "      <td>0.0</td>\n",
              "      <td>3.292782e+06</td>\n",
              "      <td>1.295455e+06</td>\n",
              "      <td>509400.000000</td>\n",
              "      <td>1.426964e+06</td>\n",
              "      <td>1.000000</td>\n",
              "      <td>1.000000</td>\n",
              "      <td>1.000000</td>\n",
              "      <td>1.000000</td>\n",
              "      <td>1.000000</td>\n",
              "      <td>1.000000</td>\n",
              "      <td>1.000000</td>\n",
              "      <td>1.000000</td>\n",
              "      <td>1.000000</td>\n",
              "      <td>1.000000</td>\n",
              "      <td>1.0</td>\n",
              "      <td>1.000000</td>\n",
              "      <td>1.000000</td>\n",
              "      <td>1.000000</td>\n",
              "      <td>1.000000</td>\n",
              "      <td>1.000000</td>\n",
              "      <td>1.000000</td>\n",
              "      <td>1.0</td>\n",
              "      <td>1.0</td>\n",
              "    </tr>\n",
              "  </tbody>\n",
              "</table>\n",
              "<p>8 rows × 95 columns</p>\n",
              "</div>"
            ],
            "text/plain": [
              "          loan_amnt      int_rate  ...  hardship_flag_N  debt_settlement_flag_N\n",
              "count  68817.000000  68817.000000  ...          68817.0                 68817.0\n",
              "mean   16677.594562      0.127718  ...              1.0                     1.0\n",
              "std    10277.348590      0.048130  ...              0.0                     0.0\n",
              "min     1000.000000      0.060000  ...              1.0                     1.0\n",
              "25%     9000.000000      0.088100  ...              1.0                     1.0\n",
              "50%    15000.000000      0.118000  ...              1.0                     1.0\n",
              "75%    24000.000000      0.155700  ...              1.0                     1.0\n",
              "max    40000.000000      0.308400  ...              1.0                     1.0\n",
              "\n",
              "[8 rows x 95 columns]"
            ]
          },
          "metadata": {},
          "execution_count": 8
        }
      ]
    },
    {
      "cell_type": "code",
      "metadata": {
        "colab": {
          "base_uri": "https://localhost:8080/"
        },
        "id": "a00JokYpcLXM",
        "outputId": "419bb63f-6009-41a7-9ac0-c31d5dac5704"
      },
      "source": [
        "# Check the balance of our target values\n",
        "y.value_counts()"
      ],
      "execution_count": 9,
      "outputs": [
        {
          "output_type": "execute_result",
          "data": {
            "text/plain": [
              "low_risk     68470\n",
              "high_risk      347\n",
              "Name: loan_status, dtype: int64"
            ]
          },
          "metadata": {},
          "execution_count": 9
        }
      ]
    },
    {
      "cell_type": "code",
      "metadata": {
        "id": "vlbqy8nbcLXM"
      },
      "source": [
        "from sklearn.model_selection import train_test_split\n",
        "X_train, X_test, y_train, y_test = train_test_split(X,y)"
      ],
      "execution_count": 11,
      "outputs": []
    },
    {
      "cell_type": "code",
      "metadata": {
        "colab": {
          "base_uri": "https://localhost:8080/"
        },
        "id": "56JQlfuzfUgw",
        "outputId": "f870572d-5adb-4073-b541-5ae329d23a44"
      },
      "source": [
        "X_train.shape, X_test.shape"
      ],
      "execution_count": 12,
      "outputs": [
        {
          "output_type": "execute_result",
          "data": {
            "text/plain": [
              "((51612, 95), (17205, 95))"
            ]
          },
          "metadata": {},
          "execution_count": 12
        }
      ]
    },
    {
      "cell_type": "markdown",
      "metadata": {
        "id": "f2GVcbL2cLXM"
      },
      "source": [
        "# Oversampling\n",
        "\n",
        "In this section, you will compare two oversampling algorithms to determine which algorithm results in the best performance. You will oversample the data using the naive random oversampling algorithm and the SMOTE algorithm. For each algorithm, be sure to complete the folliowing steps:\n",
        "\n",
        "1. View the count of the target classes using `Counter` from the collections library. \n",
        "3. Use the resampled data to train a logistic regression model.\n",
        "3. Calculate the balanced accuracy score from sklearn.metrics.\n",
        "4. Print the confusion matrix from sklearn.metrics.\n",
        "5. Generate a classication report using the `imbalanced_classification_report` from imbalanced-learn.\n",
        "\n",
        "Note: Use a random state of 1 for each sampling algorithm to ensure consistency between tests"
      ]
    },
    {
      "cell_type": "markdown",
      "metadata": {
        "id": "E6vhiJqXcLXM"
      },
      "source": [
        "### Naive Random Oversampling"
      ]
    },
    {
      "cell_type": "code",
      "metadata": {
        "colab": {
          "base_uri": "https://localhost:8080/"
        },
        "id": "jJnjKqJ2cLXM",
        "outputId": "8f0e5626-e7df-464f-ed98-b06066e9f4ee"
      },
      "source": [
        "# Resample the training data with the RandomOversampler\n",
        "from imblearn.over_sampling import RandomOverSampler\n",
        "samp = RandomOverSampler(random_state = 1)\n",
        "X_resample, y_resample = samp.fit_resample(X_train, y_train)\n",
        "Counter(y_resample)"
      ],
      "execution_count": 15,
      "outputs": [
        {
          "output_type": "execute_result",
          "data": {
            "text/plain": [
              "Counter({'high_risk': 51356, 'low_risk': 51356})"
            ]
          },
          "metadata": {},
          "execution_count": 15
        }
      ]
    },
    {
      "cell_type": "code",
      "metadata": {
        "id": "sWEn0BFhf8A0"
      },
      "source": [
        ""
      ],
      "execution_count": null,
      "outputs": []
    },
    {
      "cell_type": "code",
      "metadata": {
        "colab": {
          "base_uri": "https://localhost:8080/"
        },
        "id": "wTgk2F_ucLXN",
        "outputId": "275d823f-d008-47df-dc19-5f9854d1187d"
      },
      "source": [
        "# Train the Logistic Regression model using the resampled data\n",
        "from sklearn.linear_model import LogisticRegression\n",
        "lr = LogisticRegression(random_state=1)\n",
        "lr.fit(X_resample, y_resample)"
      ],
      "execution_count": 21,
      "outputs": [
        {
          "output_type": "execute_result",
          "data": {
            "text/plain": [
              "LogisticRegression(C=1.0, class_weight=None, dual=False, fit_intercept=True,\n",
              "                   intercept_scaling=1, l1_ratio=None, max_iter=100,\n",
              "                   multi_class='auto', n_jobs=None, penalty='l2',\n",
              "                   random_state=1, solver='lbfgs', tol=0.0001, verbose=0,\n",
              "                   warm_start=False)"
            ]
          },
          "metadata": {},
          "execution_count": 21
        }
      ]
    },
    {
      "cell_type": "code",
      "metadata": {
        "colab": {
          "base_uri": "https://localhost:8080/"
        },
        "id": "l9d7YHE5cLXN",
        "outputId": "74b514ed-6db3-49ed-daac-bfe155bab066"
      },
      "source": [
        "# Calculated the balanced accuracy score\n",
        "from sklearn.metrics import balanced_accuracy_score\n",
        "pred = lr.predict(X_test)\n",
        "balanced_accuracy_score(y_test, pred)"
      ],
      "execution_count": 22,
      "outputs": [
        {
          "output_type": "execute_result",
          "data": {
            "text/plain": [
              "0.6345903424610915"
            ]
          },
          "metadata": {},
          "execution_count": 22
        }
      ]
    },
    {
      "cell_type": "code",
      "metadata": {
        "colab": {
          "base_uri": "https://localhost:8080/"
        },
        "id": "2Qy18OURcLXN",
        "outputId": "97aa129f-68f7-4907-e1bf-1b58dfa785b2"
      },
      "source": [
        "# Display the confusion matrix\n",
        "from sklearn.metrics import confusion_matrix\n",
        "confusion_matrix (y_test, pred)"
      ],
      "execution_count": 23,
      "outputs": [
        {
          "output_type": "execute_result",
          "data": {
            "text/plain": [
              "array([[   57,    34],\n",
              "       [ 6113, 11001]])"
            ]
          },
          "metadata": {},
          "execution_count": 23
        }
      ]
    },
    {
      "cell_type": "code",
      "metadata": {
        "colab": {
          "base_uri": "https://localhost:8080/"
        },
        "id": "qkNV0BqfcLXN",
        "outputId": "1aa35520-3db1-4176-d49e-04efd195c16e"
      },
      "source": [
        "# Print the imbalanced classification report\n",
        "from imblearn.metrics import classification_report_imbalanced\n",
        "print(classification_report_imbalanced(y_test, pred))"
      ],
      "execution_count": 25,
      "outputs": [
        {
          "output_type": "stream",
          "name": "stdout",
          "text": [
            "                   pre       rec       spe        f1       geo       iba       sup\n",
            "\n",
            "  high_risk       0.01      0.63      0.64      0.02      0.63      0.40        91\n",
            "   low_risk       1.00      0.64      0.63      0.78      0.63      0.40     17114\n",
            "\n",
            "avg / total       0.99      0.64      0.63      0.78      0.63      0.40     17205\n",
            "\n"
          ]
        }
      ]
    },
    {
      "cell_type": "markdown",
      "metadata": {
        "id": "_e5GSt4PcLXO"
      },
      "source": [
        "### SMOTE Oversampling"
      ]
    },
    {
      "cell_type": "code",
      "metadata": {
        "colab": {
          "base_uri": "https://localhost:8080/"
        },
        "id": "RAEzrU--cLXO",
        "outputId": "ae739f6e-df74-48e5-c438-5fd977ef9824"
      },
      "source": [
        "# Resample the training data with SMOTE\n",
        "from imblearn.over_sampling import SMOTE\n",
        "SM = SMOTE(random_state = 1)\n",
        "X_resample, y_resample = SM.fit_resample(X_train, y_train)\n",
        "Counter(y_resample)"
      ],
      "execution_count": 26,
      "outputs": [
        {
          "output_type": "execute_result",
          "data": {
            "text/plain": [
              "Counter({'high_risk': 51356, 'low_risk': 51356})"
            ]
          },
          "metadata": {},
          "execution_count": 26
        }
      ]
    },
    {
      "cell_type": "code",
      "metadata": {
        "colab": {
          "base_uri": "https://localhost:8080/"
        },
        "id": "aqgmLYsbcLXO",
        "outputId": "bbeee589-b837-415e-b122-361fb7fb17ab"
      },
      "source": [
        "# Train the Logistic Regression model using the resampled data\n",
        "lr = LogisticRegression(random_state=1)\n",
        "lr.fit(X_resample, y_resample)"
      ],
      "execution_count": 28,
      "outputs": [
        {
          "output_type": "execute_result",
          "data": {
            "text/plain": [
              "LogisticRegression(C=1.0, class_weight=None, dual=False, fit_intercept=True,\n",
              "                   intercept_scaling=1, l1_ratio=None, max_iter=100,\n",
              "                   multi_class='auto', n_jobs=None, penalty='l2',\n",
              "                   random_state=1, solver='lbfgs', tol=0.0001, verbose=0,\n",
              "                   warm_start=False)"
            ]
          },
          "metadata": {},
          "execution_count": 28
        }
      ]
    },
    {
      "cell_type": "code",
      "metadata": {
        "colab": {
          "base_uri": "https://localhost:8080/"
        },
        "id": "dQ0GkgD9cLXO",
        "outputId": "10ddeed1-fcfe-419e-f401-037e44f06c91"
      },
      "source": [
        "# Calculated the balanced accuracy score\n",
        "pred = lr.predict(X_test)\n",
        "balanced_accuracy_score(y_test, pred)"
      ],
      "execution_count": 29,
      "outputs": [
        {
          "output_type": "execute_result",
          "data": {
            "text/plain": [
              "0.6508478374494502"
            ]
          },
          "metadata": {},
          "execution_count": 29
        }
      ]
    },
    {
      "cell_type": "code",
      "metadata": {
        "colab": {
          "base_uri": "https://localhost:8080/"
        },
        "id": "esW2ZRfccLXP",
        "outputId": "89facf04-b3fc-4bd4-e44d-e22a07fb5585"
      },
      "source": [
        "# Display the confusion matrix\n",
        "confusion_matrix (y_test, pred)"
      ],
      "execution_count": 30,
      "outputs": [
        {
          "output_type": "execute_result",
          "data": {
            "text/plain": [
              "array([[   64,    27],\n",
              "       [ 6873, 10241]])"
            ]
          },
          "metadata": {},
          "execution_count": 30
        }
      ]
    },
    {
      "cell_type": "code",
      "metadata": {
        "colab": {
          "base_uri": "https://localhost:8080/"
        },
        "id": "9r4mva2zcLXP",
        "outputId": "1e6aa41a-3fa1-4765-dbc5-5ad3beb0fd02"
      },
      "source": [
        "# Print the imbalanced classification report\n",
        "print(classification_report_imbalanced(y_test, pred))"
      ],
      "execution_count": 31,
      "outputs": [
        {
          "output_type": "stream",
          "name": "stdout",
          "text": [
            "                   pre       rec       spe        f1       geo       iba       sup\n",
            "\n",
            "  high_risk       0.01      0.70      0.60      0.02      0.65      0.43        91\n",
            "   low_risk       1.00      0.60      0.70      0.75      0.65      0.42     17114\n",
            "\n",
            "avg / total       0.99      0.60      0.70      0.74      0.65      0.42     17205\n",
            "\n"
          ]
        }
      ]
    },
    {
      "cell_type": "markdown",
      "metadata": {
        "id": "xs1Bd2pkcLXP"
      },
      "source": [
        "# Undersampling\n",
        "\n",
        "In this section, you will test an undersampling algorithms to determine which algorithm results in the best performance compared to the oversampling algorithms above. You will undersample the data using the Cluster Centroids algorithm and complete the folliowing steps:\n",
        "\n",
        "1. View the count of the target classes using `Counter` from the collections library. \n",
        "3. Use the resampled data to train a logistic regression model.\n",
        "3. Calculate the balanced accuracy score from sklearn.metrics.\n",
        "4. Print the confusion matrix from sklearn.metrics.\n",
        "5. Generate a classication report using the `imbalanced_classification_report` from imbalanced-learn.\n",
        "\n",
        "Note: Use a random state of 1 for each sampling algorithm to ensure consistency between tests"
      ]
    },
    {
      "cell_type": "code",
      "metadata": {
        "colab": {
          "base_uri": "https://localhost:8080/"
        },
        "id": "ucboMcTocLXP",
        "outputId": "f7531ef7-3144-450b-baa9-68ab0507d7eb"
      },
      "source": [
        "# Resample the data using the ClusterCentroids resampler\n",
        "# Warning: This is a large dataset, and this step may take some time to complete\n",
        "from imblearn.under_sampling import ClusterCentroids\n",
        "cc = ClusterCentroids(random_state = 1)\n",
        "X_resample, y_resample = cc.fit_resample(X_train, y_train)\n",
        "Counter(y_resample)"
      ],
      "execution_count": 32,
      "outputs": [
        {
          "output_type": "execute_result",
          "data": {
            "text/plain": [
              "Counter({'high_risk': 256, 'low_risk': 256})"
            ]
          },
          "metadata": {},
          "execution_count": 32
        }
      ]
    },
    {
      "cell_type": "code",
      "metadata": {
        "id": "FcviolfvcLXP",
        "outputId": "7e32d1d0-0109-4120-c2b7-8e0707c72953"
      },
      "source": [
        "# Train the Logistic Regression model using the resampled data\n",
        "lr = LogisticRegression(random_state=1)\n",
        "lr.fit(X_resample, y_resample)"
      ],
      "execution_count": null,
      "outputs": [
        {
          "data": {
            "text/plain": [
              "LogisticRegression(random_state=1)"
            ]
          },
          "execution_count": 20,
          "metadata": {},
          "output_type": "execute_result"
        }
      ]
    },
    {
      "cell_type": "code",
      "metadata": {
        "id": "3NWZbxtrcLXP",
        "outputId": "9e3eecd0-bd97-4e19-c7f2-a1299189ca55"
      },
      "source": [
        "# Calculated the balanced accuracy score\n",
        "pred = lr.predict(X_test)\n",
        "balanced_accuracy_score(y_test, pred)"
      ],
      "execution_count": null,
      "outputs": [
        {
          "data": {
            "text/plain": [
              "0.5442166848817717"
            ]
          },
          "execution_count": 21,
          "metadata": {},
          "output_type": "execute_result"
        }
      ]
    },
    {
      "cell_type": "code",
      "metadata": {
        "id": "2KHWYp24cLXP",
        "outputId": "2c034ef6-6f95-4ffe-c401-a7010ace6e9e"
      },
      "source": [
        "# Display the confusion matrix\n",
        "confusion_matrix (y_test, pred)"
      ],
      "execution_count": null,
      "outputs": [
        {
          "data": {
            "text/plain": [
              "array([[   68,    33],\n",
              "       [10003,  7101]])"
            ]
          },
          "execution_count": 22,
          "metadata": {},
          "output_type": "execute_result"
        }
      ]
    },
    {
      "cell_type": "code",
      "metadata": {
        "id": "FTmGlIVucLXP",
        "outputId": "d1898876-74ba-47de-f6ef-a9c2a4ffa89e"
      },
      "source": [
        "# Print the imbalanced classification report\n",
        "print(classification_report_imbalanced(y_test, pred))"
      ],
      "execution_count": null,
      "outputs": [
        {
          "name": "stdout",
          "output_type": "stream",
          "text": [
            "                   pre       rec       spe        f1       geo       iba       sup\n",
            "\n",
            "  high_risk       0.01      0.67      0.42      0.01      0.53      0.29       101\n",
            "   low_risk       1.00      0.42      0.67      0.59      0.53      0.27     17104\n",
            "\n",
            "avg / total       0.99      0.42      0.67      0.58      0.53      0.27     17205\n",
            "\n"
          ]
        }
      ]
    },
    {
      "cell_type": "markdown",
      "metadata": {
        "id": "U8WREyW8cLXQ"
      },
      "source": [
        "# Combination (Over and Under) Sampling\n",
        "\n",
        "In this section, you will test a combination over- and under-sampling algorithm to determine if the algorithm results in the best performance compared to the other sampling algorithms above. You will resample the data using the SMOTEENN algorithm and complete the folliowing steps:\n",
        "\n",
        "1. View the count of the target classes using `Counter` from the collections library. \n",
        "3. Use the resampled data to train a logistic regression model.\n",
        "3. Calculate the balanced accuracy score from sklearn.metrics.\n",
        "4. Print the confusion matrix from sklearn.metrics.\n",
        "5. Generate a classication report using the `imbalanced_classification_report` from imbalanced-learn.\n",
        "\n",
        "Note: Use a random state of 1 for each sampling algorithm to ensure consistency between tests"
      ]
    },
    {
      "cell_type": "code",
      "metadata": {
        "id": "4rdkP_0YcLXQ"
      },
      "source": [
        "# Resample the training data with SMOTEENN\n",
        "# Warning: This is a large dataset, and this step may take some time to complete\n",
        "from imblearn.combine import SMOTEENN\n",
        "SM = SMOTEENN(random_state = 1)\n",
        "X_resample, y_resample = SM.fit_resample(X_train,y_train)"
      ],
      "execution_count": null,
      "outputs": []
    },
    {
      "cell_type": "code",
      "metadata": {
        "id": "2tOwkezTcLXQ"
      },
      "source": [
        "# Train the Logistic Regression model using the resampled data\n",
        "lr = LogisticRegression(random_state=1)\n",
        "lr.fit(X_resample, y_resample)"
      ],
      "execution_count": null,
      "outputs": []
    },
    {
      "cell_type": "code",
      "metadata": {
        "id": "kqkRzTMscLXQ"
      },
      "source": [
        "# Calculated the balanced accuracy score\n",
        "pred = lr.predict(X_test)\n",
        "balanced_accuracy_score(y_test, pred)"
      ],
      "execution_count": null,
      "outputs": []
    },
    {
      "cell_type": "code",
      "metadata": {
        "id": "WBOKT9rucLXQ",
        "outputId": "b79d823e-488d-4e14-cd52-0f938344ca0a"
      },
      "source": [
        "# Display the confusion matrix\n",
        "confusion_matrix (y_test, pred)"
      ],
      "execution_count": null,
      "outputs": [
        {
          "data": {
            "text/plain": [
              "array([[  71,   30],\n",
              "       [7232, 9872]])"
            ]
          },
          "execution_count": 27,
          "metadata": {},
          "output_type": "execute_result"
        }
      ]
    },
    {
      "cell_type": "code",
      "metadata": {
        "id": "1uSaH5vGcLXR",
        "outputId": "6a40dc40-918a-4a56-f5d2-1eb9378f6626"
      },
      "source": [
        "# Print the imbalanced classification report\n",
        "print(classification_report_imbalanced(y_test, pred))\n"
      ],
      "execution_count": null,
      "outputs": [
        {
          "name": "stdout",
          "output_type": "stream",
          "text": [
            "                   pre       rec       spe        f1       geo       iba       sup\n",
            "\n",
            "  high_risk       0.01      0.70      0.58      0.02      0.64      0.41       101\n",
            "   low_risk       1.00      0.58      0.70      0.73      0.64      0.40     17104\n",
            "\n",
            "avg / total       0.99      0.58      0.70      0.73      0.64      0.40     17205\n",
            "\n"
          ]
        }
      ]
    },
    {
      "cell_type": "code",
      "metadata": {
        "id": "xFkpAHLkcLXR"
      },
      "source": [
        ""
      ],
      "execution_count": null,
      "outputs": []
    }
  ]
}